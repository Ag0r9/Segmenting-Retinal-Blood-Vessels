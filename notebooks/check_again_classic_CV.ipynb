{
 "cells": [
  {
   "cell_type": "markdown",
   "source": [
    "# Check again classic CV"
   ],
   "metadata": {
    "collapsed": false,
    "pycharm": {
     "name": "#%% md\n"
    }
   }
  },
  {
   "cell_type": "markdown",
   "source": [
    "## Package"
   ],
   "metadata": {
    "collapsed": false,
    "pycharm": {
     "name": "#%% md\n"
    }
   }
  },
  {
   "cell_type": "code",
   "execution_count": 1,
   "outputs": [],
   "source": [
    "import pandas as pd\n",
    "import matplotlib.pyplot as plt\n",
    "\n",
    "from utils import get_data, get_metrics\n",
    "from classic_CV import create_result_classic"
   ],
   "metadata": {
    "collapsed": false,
    "pycharm": {
     "name": "#%%\n"
    }
   }
  },
  {
   "cell_type": "markdown",
   "source": [
    "## Import data"
   ],
   "metadata": {
    "collapsed": false,
    "pycharm": {
     "name": "#%% md\n"
    }
   }
  },
  {
   "cell_type": "code",
   "execution_count": 2,
   "outputs": [],
   "source": [
    "data = get_data(path='../data/HRF/')"
   ],
   "metadata": {
    "collapsed": false,
    "pycharm": {
     "name": "#%%\n"
    }
   }
  },
  {
   "cell_type": "markdown",
   "source": [
    "## Check metrics"
   ],
   "metadata": {
    "collapsed": false,
    "pycharm": {
     "name": "#%% md\n"
    }
   }
  },
  {
   "cell_type": "code",
   "execution_count": 3,
   "outputs": [],
   "source": [
    "metrics = {\n",
    "    'accuracy': [],\n",
    "    'sensitivity': [],\n",
    "    'specificity': []\n",
    "}\n",
    "results = []\n",
    "for index in range(len(data['original'])):\n",
    "    result = create_result_classic(data['original'][index][:, :, 1], data['mask'][index])\n",
    "    accuracy, sensitivity, specificity = get_metrics(result, data['labeled'][index])\n",
    "    results.append(result)\n",
    "    metrics['accuracy'].append(accuracy)\n",
    "    metrics['sensitivity'].append(sensitivity)\n",
    "    metrics['specificity'].append(specificity)\n",
    "metrics = pd.DataFrame(metrics)"
   ],
   "metadata": {
    "collapsed": false,
    "pycharm": {
     "name": "#%%\n"
    }
   }
  },
  {
   "cell_type": "code",
   "execution_count": 4,
   "outputs": [
    {
     "data": {
      "text/plain": "   accuracy  sensitivity  specificity\n0  0.915095     0.981785     0.913899\n1  0.913505     0.996658     0.912465\n2  0.907739     0.968063     0.906868\n3  0.930857     0.979267     0.929554\n4  0.935554     0.978329     0.934368\n5  0.941125     0.982696     0.939210\n6  0.925706     0.985806     0.924778\n7  0.930170     0.981855     0.928478\n8  0.932779     0.984244     0.932213\n9  0.931085     0.994113     0.929964",
      "text/html": "<div>\n<style scoped>\n    .dataframe tbody tr th:only-of-type {\n        vertical-align: middle;\n    }\n\n    .dataframe tbody tr th {\n        vertical-align: top;\n    }\n\n    .dataframe thead th {\n        text-align: right;\n    }\n</style>\n<table border=\"1\" class=\"dataframe\">\n  <thead>\n    <tr style=\"text-align: right;\">\n      <th></th>\n      <th>accuracy</th>\n      <th>sensitivity</th>\n      <th>specificity</th>\n    </tr>\n  </thead>\n  <tbody>\n    <tr>\n      <th>0</th>\n      <td>0.915095</td>\n      <td>0.981785</td>\n      <td>0.913899</td>\n    </tr>\n    <tr>\n      <th>1</th>\n      <td>0.913505</td>\n      <td>0.996658</td>\n      <td>0.912465</td>\n    </tr>\n    <tr>\n      <th>2</th>\n      <td>0.907739</td>\n      <td>0.968063</td>\n      <td>0.906868</td>\n    </tr>\n    <tr>\n      <th>3</th>\n      <td>0.930857</td>\n      <td>0.979267</td>\n      <td>0.929554</td>\n    </tr>\n    <tr>\n      <th>4</th>\n      <td>0.935554</td>\n      <td>0.978329</td>\n      <td>0.934368</td>\n    </tr>\n    <tr>\n      <th>5</th>\n      <td>0.941125</td>\n      <td>0.982696</td>\n      <td>0.939210</td>\n    </tr>\n    <tr>\n      <th>6</th>\n      <td>0.925706</td>\n      <td>0.985806</td>\n      <td>0.924778</td>\n    </tr>\n    <tr>\n      <th>7</th>\n      <td>0.930170</td>\n      <td>0.981855</td>\n      <td>0.928478</td>\n    </tr>\n    <tr>\n      <th>8</th>\n      <td>0.932779</td>\n      <td>0.984244</td>\n      <td>0.932213</td>\n    </tr>\n    <tr>\n      <th>9</th>\n      <td>0.931085</td>\n      <td>0.994113</td>\n      <td>0.929964</td>\n    </tr>\n  </tbody>\n</table>\n</div>"
     },
     "execution_count": 4,
     "metadata": {},
     "output_type": "execute_result"
    }
   ],
   "source": [
    "metrics"
   ],
   "metadata": {
    "collapsed": false,
    "pycharm": {
     "name": "#%%\n"
    }
   }
  },
  {
   "cell_type": "code",
   "execution_count": 5,
   "outputs": [
    {
     "data": {
      "text/plain": "accuracy       0.926361\nsensitivity    0.983281\nspecificity    0.925180\ndtype: float64"
     },
     "execution_count": 5,
     "metadata": {},
     "output_type": "execute_result"
    }
   ],
   "source": [
    "metrics.mean()"
   ],
   "metadata": {
    "collapsed": false,
    "pycharm": {
     "name": "#%%\n"
    }
   }
  },
  {
   "cell_type": "markdown",
   "source": [
    "## Check single image"
   ],
   "metadata": {
    "collapsed": false,
    "pycharm": {
     "name": "#%% md\n"
    }
   }
  },
  {
   "cell_type": "code",
   "execution_count": 6,
   "outputs": [],
   "source": [
    "def check_singel_image(idx: int):\n",
    "    plt.subplot(1, 2, 1)\n",
    "    plt.imshow(results[idx], cmap='gray')\n",
    "    plt.subplot(1, 2, 2)\n",
    "    plt.imshow(data['labeled'][idx], cmap='gray')\n",
    "    print(metrics.loc[0])"
   ],
   "metadata": {
    "collapsed": false,
    "pycharm": {
     "name": "#%%\n"
    }
   }
  },
  {
   "cell_type": "code",
   "execution_count": 7,
   "outputs": [
    {
     "name": "stdout",
     "output_type": "stream",
     "text": [
      "accuracy       0.915095\n",
      "sensitivity    0.981785\n",
      "specificity    0.913899\n",
      "Name: 0, dtype: float64\n"
     ]
    },
    {
     "data": {
      "text/plain": "<Figure size 432x288 with 2 Axes>",
      "image/png": "[encoded data removed]"
     },
     "metadata": {
      "needs_background": "light"
     },
     "output_type": "display_data"
    }
   ],
   "source": [
    "check_singel_image(0)"
   ],
   "metadata": {
    "collapsed": false,
    "pycharm": {
     "name": "#%%\n"
    }
   }
  }
 ],
 "metadata": {
  "kernelspec": {
   "display_name": "Python 3",
   "language": "python",
   "name": "python3"
  },
  "language_info": {
   "codemirror_mode": {
    "name": "ipython",
    "version": 2
   },
   "file_extension": ".py",
   "mimetype": "text/x-python",
   "name": "python",
   "nbconvert_exporter": "python",
   "pygments_lexer": "ipython2",
   "version": "2.7.6"
  }
 },
 "nbformat": 4,
 "nbformat_minor": 0
}